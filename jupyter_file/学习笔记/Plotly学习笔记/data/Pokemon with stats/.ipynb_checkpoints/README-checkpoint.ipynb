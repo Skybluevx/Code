{
 "cells": [
  {
   "cell_type": "markdown",
   "metadata": {},
   "source": [
    "# 口袋妖怪与统计"
   ]
  },
  {
   "cell_type": "markdown",
   "metadata": {},
   "source": [
    "此数据集包括721个神奇宝贝，包括它们的编号，名称，第一和第二类型以及基本统计信息：HP，攻击，防御，特殊攻击，特殊防御和速度。当向孩子们讲授统计数据时，它非常有用。对于某些类型，您还可以对机器学习进行深入了解。\n",
    "\n",
    "这是用于计算攻击在游戏中造成的伤害的原始属性。该数据集是关于神奇宝贝游戏的（不是神奇宝贝卡或神奇宝贝Go）。\n",
    "\n",
    "Myles O'Neill描述的数据是：\n",
    "\n",
    "- ＃：每个宠物小精灵的ID\n",
    "- 名称：每个宠物小精灵的名字\n",
    "- 类型1：每个宠物小精灵都有一个类型，它决定了攻击的弱点/抵抗力\n",
    "- 类型2：某些宠物小精灵是双重类型，有2个\n",
    "- 总计：此后得出的所有统计信息的总和，这是关于口袋妖怪强度的一般指南\n",
    "- HP：生命值或生命值定义口袋妖怪晕倒前可以承受的伤害量\n",
    "- 攻击：正常攻击的基本修饰符（例如，刮擦，打孔）\n",
    "- 防御：抵抗普通攻击的基础伤害抵抗\n",
    "- SP攻击：特殊攻击，特殊攻击（例如，爆炸，气泡光束）的基础修改器\n",
    "- SP Def：抵抗特殊攻击的基础伤害\n",
    "- 速度：确定每轮首先攻击哪个口袋妖怪\n",
    "- 该表的数据已从几个不同的站点获取，包括：\n",
    "\n",
    "[pokemon.com](http://www.pokemon.com/us/pokedex/)\n",
    "[口袋妖怪](http://pokemondb.net/pokedex)\n",
    "[鳞茎足病](http://bulbapedia.bulbagarden.net/wiki/List_of_Pok%C3%A9mon_by_National_Pok%C3%A9dex_number)\n",
    "\n",
    "这个数据库已经回答了一个问题：口袋妖怪的类型不能仅凭其攻击和防御来推断。如果有两个变量可以定义口袋妖怪的类型，那将是值得的。可以在2D空间中绘制两个变量，并用作机器学习的示例。这可能意味着创建任何怪异的机器学习课程都喜欢的视觉示例。"
   ]
  },
  {
   "cell_type": "code",
   "execution_count": null,
   "metadata": {},
   "outputs": [],
   "source": []
  }
 ],
 "metadata": {
  "hide_input": false,
  "kernelspec": {
   "display_name": "python36",
   "language": "python",
   "name": "python36"
  },
  "language_info": {
   "codemirror_mode": {
    "name": "ipython",
    "version": 3
   },
   "file_extension": ".py",
   "mimetype": "text/x-python",
   "name": "python",
   "nbconvert_exporter": "python",
   "pygments_lexer": "ipython3",
   "version": "3.7.6"
  },
  "toc": {
   "base_numbering": 1,
   "nav_menu": {},
   "number_sections": true,
   "sideBar": true,
   "skip_h1_title": false,
   "title_cell": "Table of Contents",
   "title_sidebar": "Contents",
   "toc_cell": false,
   "toc_position": {},
   "toc_section_display": true,
   "toc_window_display": false
  },
  "varInspector": {
   "cols": {
    "lenName": 16,
    "lenType": 16,
    "lenVar": 40
   },
   "kernels_config": {
    "python": {
     "delete_cmd_postfix": "",
     "delete_cmd_prefix": "del ",
     "library": "var_list.py",
     "varRefreshCmd": "print(var_dic_list())"
    },
    "r": {
     "delete_cmd_postfix": ") ",
     "delete_cmd_prefix": "rm(",
     "library": "var_list.r",
     "varRefreshCmd": "cat(var_dic_list()) "
    }
   },
   "types_to_exclude": [
    "module",
    "function",
    "builtin_function_or_method",
    "instance",
    "_Feature"
   ],
   "window_display": false
  }
 },
 "nbformat": 4,
 "nbformat_minor": 4
}

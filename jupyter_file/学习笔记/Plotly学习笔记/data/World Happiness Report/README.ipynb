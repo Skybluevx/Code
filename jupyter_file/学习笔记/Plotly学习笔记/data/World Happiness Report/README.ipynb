{
 "cells": [
  {
   "cell_type": "markdown",
   "metadata": {},
   "source": [
    "# 世界幸福报告"
   ]
  },
  {
   "cell_type": "markdown",
   "metadata": {},
   "source": [
    "## 语境\n",
    "《世界幸福报告》是对全球幸福状况的里程碑式调查。第一份报告于2012年发布，第二份报告于2013年发布，第三份报告于2015年发布，第四份报告于2016年更新。3月20日，在庆祝国际幸福日的活动上，联合国发布了2017年世界幸福度，按幸福度排名155个国家。随着政府，组织和民间社会越来越多地使用幸福指标来指导其决策，该报告继续获得全球认可。经济，心理学，调查分析，国家统计，卫生，公共政策等领域的领先专家描述了如何有效地使用幸福感测度来评估国家的进步。\n",
    "\n",
    "## 内容\n",
    "幸福分数和排名使用盖洛普世界民意调查的数据。分数基于对民意调查提出的主要生活评估问题的答案。这个问题称为Cantril梯子，它要求受访者考虑一个梯子，使他们的最佳寿命为10，而最差寿命为0，并以该等级对其自己的当前寿命进行评分。分数来自2013-2016年全国代表性样本，并使用盖洛普权重使估算具有代表性。幸福分数后面的各列估算了六个因素（经济生产，社会支持，预期寿命，自由，没有腐败和慷慨）中每个因素在何种程度上有助于使每个国家的生活评价高于反乌托邦，一个假设的国家，其六个因素的价值均等于世界最低的国家平均水平。它们对每个国家/地区的总分数没有影响，但是确实解释了为什么某些国家的排名高于其他国家。\n",
    "\n",
    "## 灵感\n",
    "哪些国家或地区在整体幸福感方面排名最高，而导致幸福感的六个因素中的每一个？在2015年至2016年以及2016年和2017年的报告之间，国家/地区的排名或分数如何变化？有没有哪个国家的幸福感显着提高或降低？\n",
    "\n",
    "什么是反乌托邦？\n",
    "\n",
    "反乌托邦是一个假想的国家，拥有世界上最不快乐的人。建立反乌托邦的目的是要有一个基准，可以在六个关键变量的每一个方面与所有国家进行比较（任何国家的表现都比反乌托邦要差得多），从而使每个子栏的宽度都为正。因此，对六个关键变量观察到的最低分数是反乌托邦的特征。由于在世界上收入最低，预期寿命最低，慷慨大方，腐败最多，自由最少，社会支持最少的国家，生活会非常不愉快，因此与乌托邦相比，它被称为“反乌托邦”。\n",
    "\n",
    "什么是残差？\n",
    "\n",
    "每个国家的残差或无法解释的组成部分有所不同，反映出六个变量在2014-2016年平均寿命评估中超出或低于解释的程度。在整个国家中，这些残差的平均值约为零。图2.2显示了将表2.1中的方程式应用于该国家六个变量的2014-2016年平均数据时每个国家的平均剩余量。我们将这些残差与估计的反乌托邦中的生活评估相结合，以便合并后的条形图始终具有正值。如图2.2所示，尽管一些寿命评估残差相当大，有时从0到10超过刻度上的一个点，但它们总是比反乌托邦的计算值小得多，反乌托邦的平均寿命为1.85。 0到10的比例。\n",
    "\n",
    "幸福评分后的列（如家庭，慷慨等）描述了什么？\n",
    "\n",
    "以下几列：人均GDP，家庭，预期寿命，自由，慷慨，信托政府腐败描述了这些因素在评估每个国家的幸福程度方面的程度。\n",
    "反乌托邦残差度量标准实际上是反乌托邦幸福分数（1.85）+每个国家/地区的残值或无法解释的值，如先前答案中所述。\n",
    "\n",
    "如果将所有这些因素加在一起，您将获得幸福感评分，因此对它们进行建模以预测幸福感评分可能不可靠。"
   ]
  },
  {
   "cell_type": "code",
   "execution_count": null,
   "metadata": {},
   "outputs": [],
   "source": []
  }
 ],
 "metadata": {
  "hide_input": false,
  "kernelspec": {
   "display_name": "Python 3",
   "language": "python",
   "name": "python3"
  },
  "language_info": {
   "codemirror_mode": {
    "name": "ipython",
    "version": 3
   },
   "file_extension": ".py",
   "mimetype": "text/x-python",
   "name": "python",
   "nbconvert_exporter": "python",
   "pygments_lexer": "ipython3",
   "version": "3.7.6"
  },
  "toc": {
   "base_numbering": 1,
   "nav_menu": {},
   "number_sections": true,
   "sideBar": true,
   "skip_h1_title": false,
   "title_cell": "Table of Contents",
   "title_sidebar": "Contents",
   "toc_cell": false,
   "toc_position": {},
   "toc_section_display": true,
   "toc_window_display": false
  },
  "varInspector": {
   "cols": {
    "lenName": 16,
    "lenType": 16,
    "lenVar": 40
   },
   "kernels_config": {
    "python": {
     "delete_cmd_postfix": "",
     "delete_cmd_prefix": "del ",
     "library": "var_list.py",
     "varRefreshCmd": "print(var_dic_list())"
    },
    "r": {
     "delete_cmd_postfix": ") ",
     "delete_cmd_prefix": "rm(",
     "library": "var_list.r",
     "varRefreshCmd": "cat(var_dic_list()) "
    }
   },
   "types_to_exclude": [
    "module",
    "function",
    "builtin_function_or_method",
    "instance",
    "_Feature"
   ],
   "window_display": false
  }
 },
 "nbformat": 4,
 "nbformat_minor": 4
}

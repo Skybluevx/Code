{
 "cells": [
  {
   "cell_type": "code",
   "execution_count": 19,
   "metadata": {
    "ExecuteTime": {
     "end_time": "2020-07-10T14:19:46.568805Z",
     "start_time": "2020-07-10T14:19:25.448506Z"
    }
   },
   "outputs": [
    {
     "name": "stdout",
     "output_type": "stream",
     "text": [
      "欢迎进入小智能\n",
      "你好,我的名字是我的名字是智\n",
      "我能帮到你什么?1\n",
      "emmm,我无法回答\n",
      "是否需要我学习?1\n",
      "请输入你的问题1\n",
      "请输入你的希望得到的回答1\n",
      "已学习完毕[{'问题': '1', '答案': '1'}]\n",
      "我能帮到你什么?2\n",
      "emmm,我无法回答\n",
      "是否需要我学习?2\n",
      "我能帮到你什么?2\n",
      "emmm,我无法回答\n",
      "是否需要我学习?2\n",
      "我能帮到你什么?1\n",
      "emmm,我无法回答\n",
      "是否需要我学习?1\n",
      "请输入你的问题2\n",
      "请输入你的希望得到的回答2\n",
      "已学习完毕[{'问题': '1', '答案': '1'}, {'问题': '2', '答案': '2'}]\n",
      "我能帮到你什么?1\n",
      "emmm,我无法回答\n",
      "是否需要我学习?0\n",
      "那好吧\n"
     ]
    }
   ],
   "source": [
    "import os\n",
    "from datetime import *\n",
    "import csv\n",
    "import json\n",
    "print(\"欢迎进入小智能\")\n",
    "x = {\"你的名字\": \"我的名字是智\"}\n",
    "c = x[\"你的名字\"]\n",
    "print(\"你好,我的名字是{}\".format(c))\n",
    "header = [\"问题\", \"答案\"]\n",
    "with open(\"ny.csv\", \"w\", encoding=\"utf-8\", newline=\"\") as f:\n",
    "    writer = csv.DictWriter(f, header)\n",
    "    writer.writeheader()\n",
    "q_a_list = []\n",
    "learn = 1\n",
    "while learn:\n",
    "    q_a_dict = {}\n",
    "    y = input(\"我能帮到你什么?\")\n",
    "    try:\n",
    "        aws = list(q_a_dict.values())[1]\n",
    "    except IndexError:\n",
    "        aws = \"\"\n",
    "    if y == aws:\n",
    "        print(aws)\n",
    "    else:\n",
    "        print(\"emmm,我无法回答\")\n",
    "        learn = input(\"是否需要我学习?\")\n",
    "        if learn == '1':\n",
    "            s_1 = input(\"请输入你的问题\")\n",
    "            s_2 = input(\"请输入你的希望得到的回答\")\n",
    "            q_a_dict[\"问题\"] = s_1\n",
    "            q_a_dict[\"答案\"] = s_2\n",
    "            q_a_list.append(q_a_dict)\n",
    "            print(\"已学习完毕{}\".format(q_a_list))\n",
    "\n",
    "        elif learn == '0':\n",
    "            print(\"那好吧\")\n",
    "            break\n",
    "with open(\"ny.csv\", \"a\", encoding=\"utf-8\", newline=\"\") as f:\n",
    "    writer = csv.DictWriter(f, header)\n",
    "    writer.writerows(q_a_list)"
   ]
  },
  {
   "cell_type": "code",
   "execution_count": 36,
   "metadata": {
    "ExecuteTime": {
     "end_time": "2020-07-11T07:14:43.960765Z",
     "start_time": "2020-07-11T07:14:43.947922Z"
    }
   },
   "outputs": [
    {
     "name": "stdout",
     "output_type": "stream",
     "text": [
      "欢迎进入小智障的对话~\n",
      "1\n",
      "2\n"
     ]
    }
   ],
   "source": [
    "import json\n",
    "import os\n",
    "import pandas as pd\n",
    "\n",
    "print(\"欢迎进入小智障的对话~\")\n",
    "\n",
    "# 检测储存数据的文件是否存在\n",
    "if os.path.exists(\"./ny.csv\") is True:\n",
    "    ques_data = pd.read_csv(\"./ny.csv\")[\"问题\"]\n",
    "else:\n",
    "    ques_data = []\n",
    "\n",
    "que = input(\"我能帮到你什么？\")\n",
    "for que_data in ques_data:\n",
    "    if que == que_data:\n",
    "        print()"
   ]
  },
  {
   "cell_type": "code",
   "execution_count": 14,
   "metadata": {
    "ExecuteTime": {
     "end_time": "2020-07-10T13:58:40.844752Z",
     "start_time": "2020-07-10T13:58:40.837243Z"
    }
   },
   "outputs": [],
   "source": [
    "i = {1 : \"2\", 2 : \"3\"}"
   ]
  },
  {
   "cell_type": "code",
   "execution_count": 15,
   "metadata": {
    "ExecuteTime": {
     "end_time": "2020-07-10T13:58:42.764881Z",
     "start_time": "2020-07-10T13:58:42.758452Z"
    }
   },
   "outputs": [
    {
     "data": {
      "text/plain": [
       "['2', '3']"
      ]
     },
     "execution_count": 15,
     "metadata": {},
     "output_type": "execute_result"
    }
   ],
   "source": [
    "list(i.values())"
   ]
  },
  {
   "cell_type": "code",
   "execution_count": 31,
   "metadata": {
    "ExecuteTime": {
     "end_time": "2020-07-11T06:58:19.112768Z",
     "start_time": "2020-07-11T06:58:19.102302Z"
    }
   },
   "outputs": [
    {
     "name": "stdout",
     "output_type": "stream",
     "text": [
      "{'问题': '1', '答案': '1'}\n",
      "{'问题': '2', '答案': '2'}\n"
     ]
    }
   ],
   "source": [
    "f = open(\"./ny.csv\", \"r\")\n",
    "reader = csv.DictReader(f)\n",
    "for reade in reader:\n",
    "    print(dict(reade))"
   ]
  },
  {
   "cell_type": "code",
   "execution_count": 28,
   "metadata": {
    "ExecuteTime": {
     "end_time": "2020-07-11T06:56:26.968757Z",
     "start_time": "2020-07-11T06:56:26.962446Z"
    }
   },
   "outputs": [
    {
     "data": {
      "text/plain": [
       "True"
      ]
     },
     "execution_count": 28,
     "metadata": {},
     "output_type": "execute_result"
    }
   ],
   "source": [
    "data = pd.read_csv(\"./ny.csv\")[\"问题\"]\n",
    "for i "
   ]
  },
  {
   "cell_type": "code",
   "execution_count": 5,
   "metadata": {
    "ExecuteTime": {
     "end_time": "2020-07-13T03:58:56.568710Z",
     "start_time": "2020-07-13T03:58:56.562681Z"
    }
   },
   "outputs": [
    {
     "name": "stdout",
     "output_type": "stream",
     "text": [
      "tmp:0\n"
     ]
    }
   ],
   "source": [
    "def And(x1, x2):\n",
    "    w1, w2, theta = 0.5, 0.5, 0.7\n",
    "    tmp = x1 * w1 + x2 * w2\n",
    "    if tmp <= theta:\n",
    "        return 0\n",
    "    elif tmp > theta:\n",
    "        return 1\n",
    "a = And(0, 0)\n",
    "print(f\"tmp:{a}\")"
   ]
  },
  {
   "cell_type": "markdown",
   "metadata": {},
   "source": [
    "<span class=\"burk\">注意</span>"
   ]
  },
  {
   "cell_type": "code",
   "execution_count": null,
   "metadata": {},
   "outputs": [],
   "source": [
    "class Car(object):\n",
    "    pass"
   ]
  }
 ],
 "metadata": {
  "hide_input": false,
  "kernelspec": {
   "display_name": "Python 3",
   "language": "python",
   "name": "python3"
  },
  "language_info": {
   "codemirror_mode": {
    "name": "ipython",
    "version": 3
   },
   "file_extension": ".py",
   "mimetype": "text/x-python",
   "name": "python",
   "nbconvert_exporter": "python",
   "pygments_lexer": "ipython3",
   "version": "3.7.6"
  },
  "toc": {
   "base_numbering": 1,
   "nav_menu": {},
   "number_sections": true,
   "sideBar": true,
   "skip_h1_title": false,
   "title_cell": "Table of Contents",
   "title_sidebar": "Contents",
   "toc_cell": false,
   "toc_position": {},
   "toc_section_display": true,
   "toc_window_display": false
  },
  "varInspector": {
   "cols": {
    "lenName": 16,
    "lenType": 16,
    "lenVar": 40
   },
   "kernels_config": {
    "python": {
     "delete_cmd_postfix": "",
     "delete_cmd_prefix": "del ",
     "library": "var_list.py",
     "varRefreshCmd": "print(var_dic_list())"
    },
    "r": {
     "delete_cmd_postfix": ") ",
     "delete_cmd_prefix": "rm(",
     "library": "var_list.r",
     "varRefreshCmd": "cat(var_dic_list()) "
    }
   },
   "position": {
    "height": "359px",
    "left": "1016px",
    "right": "20px",
    "top": "120px",
    "width": "330px"
   },
   "types_to_exclude": [
    "module",
    "function",
    "builtin_function_or_method",
    "instance",
    "_Feature"
   ],
   "window_display": false
  }
 },
 "nbformat": 4,
 "nbformat_minor": 4
}
